{
 "cells": [
  {
   "cell_type": "code",
   "execution_count": null,
   "metadata": {},
   "outputs": [
    {
     "ename": "",
     "evalue": "",
     "output_type": "error",
     "traceback": [
      "\u001b[1;31mFailed to connect to the remote Jupyter Server 'http://localhost:8888/'. Verify the server is running and reachable. (Failed to connect to the remote Jupyter Server 'http://localhost:8888/'. Verify the server is running and reachable. (request to http://localhost:8888/api/kernels?1716198994267 failed, reason: connect ECONNREFUSED 127.0.0.1:8888).)."
     ]
    }
   ],
   "source": [
    "import cv2\n",
    "import tensorflow as tf\n",
    "\n",
    "# Carregar o modelo pré-treinado para detecção de objetos\n",
    "detector = tf.saved_model.load(\"modelo_deteccao_de_objetos\")\n",
    "\n",
    "# Função para detectar placas de sinalização e faixas de rua em uma imagem\n",
    "def detectar_sinais_e_faixas(imagem):\n",
    "  # Converter a imagem para RGB\n",
    "  imagem_rgb = cv2.cvtColor(imagem, cv2.COLOR_BGR2RGB)\n",
    "\n",
    "  # Expandir a dimensão da imagem para se adequar à entrada do modelo\n",
    "  imagem_expandida = np.expand_dims(imagem_rgb, axis=0)\n",
    "\n",
    "  # Realizar detecção de objetos no modelo\n",
    "  previsoes = detector(imagem_expandida)\n",
    "\n",
    "  caixas_delimitadoras = previsoes['detection_boxes'].numpy()\n",
    "  classes_preditas = previsoes['detection_classes'].numpy()\n",
    "  pontuacoes = previsoes['detection_scores'].numpy()\n",
    "\n",
    "  # Filtra os resultados por pontuação de confiança e classe\n",
    "  detecoes_filtradas = []\n",
    "  for caixa, classe, pontuacao in zip(caixas_delimitadoras, classes_preditas, pontuacoes):\n",
    "    if pontuacao > 0.5 and (classe == 1 or classe == 2):  # Placa de sinalização (classe 1) ou faixa de rua (classe 2)\n",
    "      detecoes_filtradas.append((caixa, classe))\n",
    "\n",
    "  # Desenhar caixas delimitadoras e rótulos na imagem\n",
    "  for caixa, classe in detecoes_filtradas:\n",
    "    y_min, x_min, y_max, x_max = caixa\n",
    "    cv2.rectangle(imagem, (int(x_min), int(y_min)), (int(x_max), int(y_max)), (0, 255, 0), 2)\n",
    "    if classe == 1:\n",
    "      texto_classe = \"Placa de sinalização\"\n",
    "    else:\n",
    "      texto_classe = \"Faixa de rua\"\n",
    "    cv2.putText(imagem, texto_classe, (int(x_min), int(y_min - 5)), cv2.FONT_HERSHEY_SIMPLEX, 0.5, (0, 255, 0), 2)\n",
    "\n",
    "  return imagem\n",
    "\n",
    "# Carregar a imagem\n",
    "imagem = cv2.imread(\"C:/DEV/projetos/projetoIA/static/img/image01.png\")\n",
    "\n",
    "# Detectar placas de sinalização e faixas de rua\n",
    "imagem_com_detecoes = detectar_sinais_e_faixas(imagem)\n",
    "\n",
    "# Exibir a imagem com as detecções\n",
    "cv2.imshow(\"Detecção de Sinais e Faixas\", imagem_com_detecoes)\n",
    "cv2.waitKey(0)\n"
   ]
  }
 ],
 "metadata": {
  "kernelspec": {
   "display_name": "Python 3 (ipykernel)",
   "language": "python",
   "name": "python3"
  }
 },
 "nbformat": 4,
 "nbformat_minor": 2
}
